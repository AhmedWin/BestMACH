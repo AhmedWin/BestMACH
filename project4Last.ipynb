{
 "cells": [
  {
   "cell_type": "code",
   "execution_count": 3,
   "id": "2acf70fd-466a-47bb-b46a-0d1b56646dc7",
   "metadata": {
    "tags": []
   },
   "outputs": [
    {
     "name": "stdout",
     "output_type": "stream",
     "text": [
      "Person: Alice\n",
      "Best Company: Company A\n",
      "------------------------------\n",
      "Person: Bob\n",
      "Best Company: Company B\n",
      "------------------------------\n",
      "Person: Charlie\n",
      "Best Company: Company A\n",
      "------------------------------\n"
     ]
    }
   ],
   "source": [
    "class Person:\n",
    "    def __init__(self, name, skills):\n",
    "        self.name = name\n",
    "        self.skills = skills\n",
    "\n",
    "\n",
    "class Company:\n",
    "    def __init__(self, name, required_skills):\n",
    "        self.name = name\n",
    "        self.required_skills = required_skills\n",
    "\n",
    "\n",
    "def calculate_matching_score(person, company):\n",
    "    matching_skills = set(person.skills) & set(company.required_skills)\n",
    "    matching_score = len(matching_skills)\n",
    "    return matching_score\n",
    "\n",
    "\n",
    "def pick_best_company(person, companies):\n",
    "    best_company = None\n",
    "    best_score = 0\n",
    "\n",
    "    for company in companies:\n",
    "        score = calculate_matching_score(person, company)\n",
    "        if score > best_score:\n",
    "            best_score = score\n",
    "            best_company = company\n",
    "\n",
    "    return best_company\n",
    "\n",
    "\n",
    "# Create persons\n",
    "people = [\n",
    "    Person(\"Alice\", [\"Python\", \"Java\"]),\n",
    "    Person(\"Bob\", [\"C++\", \"C#\"]),\n",
    "    Person(\"Carol\", [\"JavaScript\", \"TypeScript\"]),\n",
    "]\n",
    "\n",
    "# Create a list of companies.\n",
    "companies = [\n",
    "    Company(\"Alibaba\", [\"Python\", \"Java\"]),\n",
    "    Company(\"Baidu\", [\"C++\", \"C#\"]),\n",
    "    Company(\"Comaro\", [\"JavaScript\", \"TypeScript\"]),]\n",
    "\n",
    "# Calculate matching score and pick the best company for each person\n",
    "persons = [person1, person2, person3]\n",
    "companies = [company1, company2, company3]\n",
    "\n",
    "for person in persons:\n",
    "    best_company = pick_best_company(person, companies)\n",
    "    print(f\"Person: {person.name}\")\n",
    "    print(f\"Best Company: {best_company.name}\" if best_company else \"No suitable company found.\")\n",
    "    print(\"-\" * 30)"
   ]
  },
  {
   "cell_type": "code",
   "execution_count": null,
   "id": "df744bfe-ae1c-4f7b-af30-0a5ba6f3152c",
   "metadata": {},
   "outputs": [],
   "source": []
  },
  {
   "cell_type": "code",
   "execution_count": null,
   "id": "16c7a961-0eeb-4c73-bcb2-3ee974eea1f8",
   "metadata": {},
   "outputs": [],
   "source": []
  }
 ],
 "metadata": {
  "kernelspec": {
   "display_name": "Python 3 (ipykernel)",
   "language": "python",
   "name": "python3"
  },
  "language_info": {
   "codemirror_mode": {
    "name": "ipython",
    "version": 3
   },
   "file_extension": ".py",
   "mimetype": "text/x-python",
   "name": "python",
   "nbconvert_exporter": "python",
   "pygments_lexer": "ipython3",
   "version": "3.11.5"
  }
 },
 "nbformat": 4,
 "nbformat_minor": 5
}
